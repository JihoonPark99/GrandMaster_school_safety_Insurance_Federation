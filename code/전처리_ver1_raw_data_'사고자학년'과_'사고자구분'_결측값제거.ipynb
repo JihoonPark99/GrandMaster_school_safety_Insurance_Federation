{
 "cells": [
  {
   "cell_type": "code",
   "execution_count": 1,
   "id": "5a18eba2",
   "metadata": {},
   "outputs": [],
   "source": [
    "import numpy as np\n",
    "import pandas as pd\n",
    "import matplotlib.pyplot as plt\n",
    "import glob\n",
    "import os\n",
    "import seaborn as sns"
   ]
  },
  {
   "cell_type": "markdown",
   "id": "c1fb24be",
   "metadata": {},
   "source": [
    "# 데이터 로드 및 결측값 제거"
   ]
  },
  {
   "cell_type": "code",
   "execution_count": 8,
   "id": "f98b42d7",
   "metadata": {},
   "outputs": [],
   "source": [
    "df19 = pd.read_excel('./../dataset/★2019~2023 학교안전사고 데이터_수정.xlsx', sheet_name='2019')\n",
    "df20 = pd.read_excel('./../dataset/★2019~2023 학교안전사고 데이터_수정.xlsx', sheet_name='2020')\n",
    "df21 = pd.read_excel('./../dataset/★2019~2023 학교안전사고 데이터_수정.xlsx', sheet_name='2021')\n",
    "df22 = pd.read_excel('./../dataset/★2019~2023 학교안전사고 데이터_수정.xlsx', sheet_name='2022')\n",
    "df23 = pd.read_excel('./../dataset/★2019~2023 학교안전사고 데이터_수정.xlsx', sheet_name='2023')"
   ]
  },
  {
   "cell_type": "code",
   "execution_count": 36,
   "id": "b30dd94d",
   "metadata": {},
   "outputs": [],
   "source": [
    "df_li = [df19, df20, df21, df22, df23]"
   ]
  },
  {
   "cell_type": "code",
   "execution_count": 23,
   "id": "04725f85",
   "metadata": {
    "scrolled": true
   },
   "outputs": [
    {
     "name": "stdout",
     "output_type": "stream",
     "text": [
      "<class 'pandas.core.frame.DataFrame'>\n",
      "RangeIndex: 138784 entries, 0 to 138783\n",
      "Data columns (total 17 columns):\n",
      " #   Column  Non-Null Count   Dtype \n",
      "---  ------  --------------   ----- \n",
      " 0   구분      138784 non-null  object\n",
      " 1   학교급     138784 non-null  object\n",
      " 2   지역      138784 non-null  object\n",
      " 3   교육청     138784 non-null  object\n",
      " 4   설립유형    138784 non-null  object\n",
      " 5   사고자구분   138783 non-null  object\n",
      " 6   사고자성별   138784 non-null  object\n",
      " 7   사고자학년   138193 non-null  object\n",
      " 8   사고발생일   138784 non-null  object\n",
      " 9   사고발생요일  138784 non-null  object\n",
      " 10  사고발생시각  138784 non-null  object\n",
      " 11  사고시간    138784 non-null  object\n",
      " 12  사고장소    138784 non-null  object\n",
      " 13  사고부위    138784 non-null  object\n",
      " 14  사고형태    138784 non-null  object\n",
      " 15  사고당시활동  138784 non-null  object\n",
      " 16  사고매개물   138784 non-null  object\n",
      "dtypes: object(17)\n",
      "memory usage: 18.0+ MB\n"
     ]
    },
    {
     "data": {
      "text/plain": [
       "((138784, 17), None)"
      ]
     },
     "execution_count": 23,
     "metadata": {},
     "output_type": "execute_result"
    }
   ],
   "source": [
    "df19.shape, df19.info()"
   ]
  },
  {
   "cell_type": "code",
   "execution_count": 32,
   "id": "7b1216f7",
   "metadata": {
    "scrolled": false
   },
   "outputs": [
    {
     "data": {
      "text/plain": [
       "(138193, 17)"
      ]
     },
     "execution_count": 32,
     "metadata": {},
     "output_type": "execute_result"
    }
   ],
   "source": [
    "## 사고자학년과 사고자구분 결측값 제거\n",
    "df19 = df19[df19['사고자학년'].notnull()]\n",
    "df19 = df19[df19['사고자구분'].notnull()]\n",
    "df19.shape"
   ]
  },
  {
   "cell_type": "code",
   "execution_count": 10,
   "id": "571ae513",
   "metadata": {},
   "outputs": [
    {
     "name": "stdout",
     "output_type": "stream",
     "text": [
      "<class 'pandas.core.frame.DataFrame'>\n",
      "RangeIndex: 41940 entries, 0 to 41939\n",
      "Data columns (total 17 columns):\n",
      " #   Column  Non-Null Count  Dtype \n",
      "---  ------  --------------  ----- \n",
      " 0   구분      41940 non-null  object\n",
      " 1   학교급     41940 non-null  object\n",
      " 2   지역      41940 non-null  object\n",
      " 3   교육청     41940 non-null  object\n",
      " 4   설립유형    41940 non-null  object\n",
      " 5   사고자구분   41940 non-null  object\n",
      " 6   사고자성별   41940 non-null  object\n",
      " 7   사고자학년   41832 non-null  object\n",
      " 8   사고발생일   41940 non-null  object\n",
      " 9   사고발생요일  41940 non-null  object\n",
      " 10  사고발생시각  41940 non-null  object\n",
      " 11  사고시간    41940 non-null  object\n",
      " 12  사고장소    41940 non-null  object\n",
      " 13  사고부위    41940 non-null  object\n",
      " 14  사고형태    41940 non-null  object\n",
      " 15  사고당시활동  41940 non-null  object\n",
      " 16  사고매개물   41940 non-null  object\n",
      "dtypes: object(17)\n",
      "memory usage: 5.4+ MB\n"
     ]
    }
   ],
   "source": [
    "df20.info()"
   ]
  },
  {
   "cell_type": "code",
   "execution_count": 33,
   "id": "ce94590f",
   "metadata": {},
   "outputs": [
    {
     "data": {
      "text/plain": [
       "(41832, 17)"
      ]
     },
     "execution_count": 33,
     "metadata": {},
     "output_type": "execute_result"
    }
   ],
   "source": [
    "## 사고자학년 결측값 제거\n",
    "df20 = df20[df20['사고자학년'].notnull()]\n",
    "df20.shape"
   ]
  },
  {
   "cell_type": "code",
   "execution_count": 14,
   "id": "05bd2701",
   "metadata": {},
   "outputs": [
    {
     "name": "stdout",
     "output_type": "stream",
     "text": [
      "<class 'pandas.core.frame.DataFrame'>\n",
      "RangeIndex: 93147 entries, 0 to 93146\n",
      "Data columns (total 17 columns):\n",
      " #   Column  Non-Null Count  Dtype \n",
      "---  ------  --------------  ----- \n",
      " 0   구분      93147 non-null  object\n",
      " 1   학교급     93147 non-null  object\n",
      " 2   지역      93147 non-null  object\n",
      " 3   교육청     93147 non-null  object\n",
      " 4   설립유형    93147 non-null  object\n",
      " 5   사고자구분   93147 non-null  object\n",
      " 6   사고자성별   93147 non-null  object\n",
      " 7   사고자학년   92947 non-null  object\n",
      " 8   사고발생일   93147 non-null  object\n",
      " 9   사고발생요일  93147 non-null  object\n",
      " 10  사고발생시각  93147 non-null  object\n",
      " 11  사고시간    93147 non-null  object\n",
      " 12  사고장소    93147 non-null  object\n",
      " 13  사고부위    93147 non-null  object\n",
      " 14  사고형태    93147 non-null  object\n",
      " 15  사고당시활동  93147 non-null  object\n",
      " 16  사고매개물   93147 non-null  object\n",
      "dtypes: object(17)\n",
      "memory usage: 12.1+ MB\n"
     ]
    }
   ],
   "source": [
    "df21.info()"
   ]
  },
  {
   "cell_type": "code",
   "execution_count": 15,
   "id": "0432f055",
   "metadata": {},
   "outputs": [
    {
     "name": "stdout",
     "output_type": "stream",
     "text": [
      "<class 'pandas.core.frame.DataFrame'>\n",
      "RangeIndex: 149339 entries, 0 to 149338\n",
      "Data columns (total 17 columns):\n",
      " #   Column  Non-Null Count   Dtype \n",
      "---  ------  --------------   ----- \n",
      " 0   구분      149339 non-null  object\n",
      " 1   학교급     149339 non-null  object\n",
      " 2   지역      149339 non-null  object\n",
      " 3   교육청     149339 non-null  object\n",
      " 4   설립유형    149339 non-null  object\n",
      " 5   사고자구분   149339 non-null  object\n",
      " 6   사고자성별   149339 non-null  object\n",
      " 7   사고자학년   149078 non-null  object\n",
      " 8   사고발생일   149339 non-null  object\n",
      " 9   사고발생요일  149339 non-null  object\n",
      " 10  사고발생시각  149339 non-null  object\n",
      " 11  사고시간    149339 non-null  object\n",
      " 12  사고장소    149339 non-null  object\n",
      " 13  사고부위    149339 non-null  object\n",
      " 14  사고형태    149339 non-null  object\n",
      " 15  사고당시활동  149339 non-null  object\n",
      " 16  사고매개물   149339 non-null  object\n",
      "dtypes: object(17)\n",
      "memory usage: 19.4+ MB\n"
     ]
    }
   ],
   "source": [
    "df22.info()"
   ]
  },
  {
   "cell_type": "code",
   "execution_count": 34,
   "id": "23f1c094",
   "metadata": {},
   "outputs": [
    {
     "data": {
      "text/plain": [
       "(149078, 17)"
      ]
     },
     "execution_count": 34,
     "metadata": {},
     "output_type": "execute_result"
    }
   ],
   "source": [
    "## 사고자학년 결측값 제거\n",
    "df22 = df22[df22['사고자학년'].notnull()]\n",
    "df22.shape"
   ]
  },
  {
   "cell_type": "code",
   "execution_count": 16,
   "id": "28ea61d7",
   "metadata": {
    "scrolled": false
   },
   "outputs": [
    {
     "name": "stdout",
     "output_type": "stream",
     "text": [
      "<class 'pandas.core.frame.DataFrame'>\n",
      "RangeIndex: 193177 entries, 0 to 193176\n",
      "Data columns (total 17 columns):\n",
      " #   Column  Non-Null Count   Dtype \n",
      "---  ------  --------------   ----- \n",
      " 0   구분      193177 non-null  object\n",
      " 1   학교급     193177 non-null  object\n",
      " 2   지역      193177 non-null  object\n",
      " 3   교육청     193177 non-null  object\n",
      " 4   설립유형    193177 non-null  object\n",
      " 5   사고자구분   193177 non-null  object\n",
      " 6   사고자성별   193177 non-null  object\n",
      " 7   사고자학년   192727 non-null  object\n",
      " 8   사고발생일   193177 non-null  object\n",
      " 9   사고발생요일  193177 non-null  object\n",
      " 10  사고발생시각  193177 non-null  object\n",
      " 11  사고시간    193177 non-null  object\n",
      " 12  사고장소    193177 non-null  object\n",
      " 13  사고부위    193177 non-null  object\n",
      " 14  사고형태    193177 non-null  object\n",
      " 15  사고당시활동  193177 non-null  object\n",
      " 16  매개물     193177 non-null  object\n",
      "dtypes: object(17)\n",
      "memory usage: 25.1+ MB\n"
     ]
    }
   ],
   "source": [
    "df23.info()"
   ]
  },
  {
   "cell_type": "code",
   "execution_count": 35,
   "id": "e65c1fa6",
   "metadata": {},
   "outputs": [
    {
     "data": {
      "text/plain": [
       "(192727, 17)"
      ]
     },
     "execution_count": 35,
     "metadata": {},
     "output_type": "execute_result"
    }
   ],
   "source": [
    "## 사고자학년 결측값 제거\n",
    "df23 = df23[df23['사고자학년'].notnull()]\n",
    "df23.shape"
   ]
  },
  {
   "cell_type": "code",
   "execution_count": 37,
   "id": "fae8abe3",
   "metadata": {},
   "outputs": [
    {
     "name": "stdout",
     "output_type": "stream",
     "text": [
      "총 데이터의 길이는 614977입니다\n"
     ]
    }
   ],
   "source": [
    "all_long = 0\n",
    "for data in df_li : \n",
    "    all_long += data.shape[0]\n",
    "print(f\"총 데이터의 길이는 {all_long}입니다\")"
   ]
  },
  {
   "cell_type": "code",
   "execution_count": 40,
   "id": "4faa1e57",
   "metadata": {},
   "outputs": [],
   "source": [
    "# df19.to_csv('./../dataset/after_remove_null_data/df19.csv')"
   ]
  },
  {
   "cell_type": "code",
   "execution_count": 41,
   "id": "61804910",
   "metadata": {},
   "outputs": [],
   "source": [
    "# df20.to_csv('./../dataset/after_remove_null_data/df20.csv')"
   ]
  },
  {
   "cell_type": "code",
   "execution_count": 42,
   "id": "e1fec9e4",
   "metadata": {},
   "outputs": [],
   "source": [
    "# df21.to_csv('./../dataset/after_remove_null_data/df21.csv')"
   ]
  },
  {
   "cell_type": "code",
   "execution_count": 43,
   "id": "3e1a9c32",
   "metadata": {},
   "outputs": [],
   "source": [
    "# df22.to_csv('./../dataset/after_remove_null_data/df22.csv')"
   ]
  },
  {
   "cell_type": "code",
   "execution_count": 44,
   "id": "978b0064",
   "metadata": {},
   "outputs": [],
   "source": [
    "# df23.to_csv('./../dataset/after_remove_null_data/df23.csv')"
   ]
  }
 ],
 "metadata": {
  "kernelspec": {
   "display_name": "Python 3 (ipykernel)",
   "language": "python",
   "name": "python3"
  },
  "language_info": {
   "codemirror_mode": {
    "name": "ipython",
    "version": 3
   },
   "file_extension": ".py",
   "mimetype": "text/x-python",
   "name": "python",
   "nbconvert_exporter": "python",
   "pygments_lexer": "ipython3",
   "version": "3.11.7"
  },
  "toc": {
   "base_numbering": 1,
   "nav_menu": {},
   "number_sections": true,
   "sideBar": true,
   "skip_h1_title": false,
   "title_cell": "Table of Contents",
   "title_sidebar": "Contents",
   "toc_cell": false,
   "toc_position": {},
   "toc_section_display": true,
   "toc_window_display": false
  }
 },
 "nbformat": 4,
 "nbformat_minor": 5
}
