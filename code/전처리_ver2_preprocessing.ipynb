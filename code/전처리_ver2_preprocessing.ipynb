{
 "cells": [
  {
   "cell_type": "markdown",
   "id": "9b765ea8",
   "metadata": {},
   "source": [
    "전처리 정리\n",
    "1. df19.csv, df20.csv, df21.csv, df22.csv, df23.csv 전부 합치기\n",
    "2. 년, 월, 일, 시간, 분, 요일 칼럼 만들기\n",
    "3. 2018년부터 2023년 데이터 추출\n",
    "4. '사고자학년'결측값 제거\n",
    "5. 나이 칼럼 만들어주기"
   ]
  },
  {
   "cell_type": "markdown",
   "id": "6fca1372",
   "metadata": {},
   "source": [
    "# Module Import"
   ]
  },
  {
   "cell_type": "code",
   "execution_count": 1,
   "id": "dd98fb85",
   "metadata": {},
   "outputs": [],
   "source": [
    "import numpy as np\n",
    "import pandas as pd\n",
    "import matplotlib.pyplot as plt\n",
    "import seaborn as sns\n",
    "import glob\n",
    "import os \n",
    "from scipy import stats\n",
    "\n",
    "import matplotlib.font_manager as fm\n",
    "\n",
    "from datetime import datetime\n",
    "# 설치된 폰트 출력\n",
    "font_list = [font.name for font in fm.fontManager.ttflist]\n",
    "plt.rcParams['font.family'] = 'NanumGothic' # 한글깨짐 방지"
   ]
  },
  {
   "cell_type": "markdown",
   "id": "ac47bb31",
   "metadata": {},
   "source": [
    "# Data Load"
   ]
  },
  {
   "cell_type": "code",
   "execution_count": 14,
   "id": "44e691ee",
   "metadata": {},
   "outputs": [],
   "source": [
    "df19 = pd.read_csv('./../dataset/after_remove_null_data/df19.csv', index_col = 0)\n",
    "df20 = pd.read_csv('./../dataset/after_remove_null_data/df20.csv', index_col = 0)\n",
    "df21 = pd.read_csv('./../dataset/after_remove_null_data/df21.csv', index_col = 0)\n",
    "df22 = pd.read_csv('./../dataset/after_remove_null_data/df22.csv', index_col = 0)\n",
    "df23 = pd.read_csv('./../dataset/after_remove_null_data/df23.csv', index_col = 0)"
   ]
  },
  {
   "cell_type": "code",
   "execution_count": 15,
   "id": "d729aec6",
   "metadata": {},
   "outputs": [],
   "source": [
    "df23.rename(columns={'매개물' : '사고매개물'}, inplace=True)\n"
   ]
  },
  {
   "cell_type": "markdown",
   "id": "ad2f41f9",
   "metadata": {},
   "source": [
    "## 데이터 합치기"
   ]
  },
  {
   "cell_type": "code",
   "execution_count": 16,
   "id": "329f9ea9",
   "metadata": {},
   "outputs": [
    {
     "data": {
      "text/plain": [
       "(614977, 17)"
      ]
     },
     "execution_count": 16,
     "metadata": {},
     "output_type": "execute_result"
    }
   ],
   "source": [
    "df = pd.concat([df19, df20, df21, df22, df23])\n",
    "df.shape"
   ]
  },
  {
   "cell_type": "markdown",
   "id": "e40a7527",
   "metadata": {},
   "source": [
    "## 년,월,일,시간,분,요일 칼럼 만들기"
   ]
  },
  {
   "cell_type": "code",
   "execution_count": 17,
   "id": "316767e2",
   "metadata": {},
   "outputs": [],
   "source": [
    "# 데이터 합친 후에 진행\n",
    "## 'year', 'month', 'day', 'hour', 'min' 칼럼 새로 만들어주기\n",
    "df['year'] = df['사고발생일'].str.split('-').str.get(0).astype(int)\n",
    "df['month'] = df['사고발생일'].str.split('-').str.get(1).astype(int)\n",
    "df['day'] = df['사고발생일'].str.split('-').str.get(2).astype(int)\n",
    "df['hour'] = df['사고발생시각'].str.split(':').str.get(0).astype(int)\n",
    "df['min'] = df['사고발생시각'].str.split(':').str.get(1).astype(int)\n",
    "\n",
    "def get_day_of_week(date_str):\n",
    "    # 월(0), 화(1), 수(2), 목(3), 금(4), 토(5), 일(6)\n",
    "    date_format = '%Y-%m-%d'\n",
    "    try:\n",
    "        date_obj = datetime.strptime(date_str, date_format)\n",
    "        day_of_week = date_obj.weekday()    \n",
    "        return day_of_week\n",
    "\n",
    "    except ValueError:\n",
    "        return '올바른 날짜 형식이 아닙니다.'\n",
    "\n",
    "df['week_day'] = df['사고발생일'].apply(get_day_of_week)\n",
    "\n"
   ]
  },
  {
   "cell_type": "markdown",
   "id": "3adc4687",
   "metadata": {},
   "source": [
    "## 2018년부터 2023년 데이터만 추출"
   ]
  },
  {
   "cell_type": "code",
   "execution_count": 20,
   "id": "5495acec",
   "metadata": {
    "scrolled": true
   },
   "outputs": [
    {
     "data": {
      "text/plain": [
       "(614601, 23)"
      ]
     },
     "execution_count": 20,
     "metadata": {},
     "output_type": "execute_result"
    }
   ],
   "source": [
    "df = df[df['year'].isin([2018, 2019, 2020, 2021, 2022, 2023])]\n",
    "df.shape"
   ]
  },
  {
   "cell_type": "markdown",
   "id": "db650b5e",
   "metadata": {},
   "source": [
    "## '사고자학년' 결측값 제거"
   ]
  },
  {
   "cell_type": "code",
   "execution_count": 21,
   "id": "0c28aa80",
   "metadata": {},
   "outputs": [
    {
     "data": {
      "text/plain": [
       "(614401, 23)"
      ]
     },
     "execution_count": 21,
     "metadata": {},
     "output_type": "execute_result"
    }
   ],
   "source": [
    "df = df[df['사고자학년'].notnull()]\n",
    "df.shape"
   ]
  },
  {
   "cell_type": "markdown",
   "id": "14b9b88d",
   "metadata": {},
   "source": [
    "## 나이 칼럼 만들기"
   ]
  },
  {
   "cell_type": "code",
   "execution_count": 22,
   "id": "429f6de6",
   "metadata": {},
   "outputs": [
    {
     "data": {
      "text/plain": [
       "(609988, 23)"
      ]
     },
     "execution_count": 22,
     "metadata": {},
     "output_type": "execute_result"
    }
   ],
   "source": [
    "under_elemt_df = df[df['학교급'] == '유치원']\n",
    "elemt_df = df[(df['학교급'] == '초등학교') & (df['사고자학년'].isin(['1학년', '2학년', '3학년', '4학년', '5학년', '6학년']))]\n",
    "middle_school_df = df[(df['학교급'] == '중학교') & (df['사고자학년'].isin(['1학년', '2학년', '3학년']))]\n",
    "high_school_df = df[(df['학교급'] == '고등학교') & (df['사고자학년'].isin(['1학년', '2학년', '3학년']))]\n",
    "\n",
    "df_new = pd.concat([under_elemt_df, elemt_df, middle_school_df, high_school_df])\n",
    "df_new.shape"
   ]
  },
  {
   "cell_type": "code",
   "execution_count": 23,
   "id": "38aabd9f",
   "metadata": {},
   "outputs": [
    {
     "data": {
      "text/html": [
       "<div>\n",
       "<style scoped>\n",
       "    .dataframe tbody tr th:only-of-type {\n",
       "        vertical-align: middle;\n",
       "    }\n",
       "\n",
       "    .dataframe tbody tr th {\n",
       "        vertical-align: top;\n",
       "    }\n",
       "\n",
       "    .dataframe thead th {\n",
       "        text-align: right;\n",
       "    }\n",
       "</style>\n",
       "<table border=\"1\" class=\"dataframe\">\n",
       "  <thead>\n",
       "    <tr style=\"text-align: right;\">\n",
       "      <th></th>\n",
       "      <th>구분</th>\n",
       "      <th>학교급</th>\n",
       "      <th>지역</th>\n",
       "      <th>교육청</th>\n",
       "      <th>설립유형</th>\n",
       "      <th>사고자구분</th>\n",
       "      <th>사고자성별</th>\n",
       "      <th>사고자학년</th>\n",
       "      <th>사고발생일</th>\n",
       "      <th>사고발생요일</th>\n",
       "      <th>...</th>\n",
       "      <th>사고부위</th>\n",
       "      <th>사고형태</th>\n",
       "      <th>사고당시활동</th>\n",
       "      <th>사고매개물</th>\n",
       "      <th>year</th>\n",
       "      <th>month</th>\n",
       "      <th>day</th>\n",
       "      <th>hour</th>\n",
       "      <th>min</th>\n",
       "      <th>week_day</th>\n",
       "    </tr>\n",
       "  </thead>\n",
       "  <tbody>\n",
       "    <tr>\n",
       "      <th>28</th>\n",
       "      <td>A0000029</td>\n",
       "      <td>유치원</td>\n",
       "      <td>경기</td>\n",
       "      <td>용인교육지원청</td>\n",
       "      <td>공립</td>\n",
       "      <td>일반학생</td>\n",
       "      <td>여</td>\n",
       "      <td>유아</td>\n",
       "      <td>2018-12-28</td>\n",
       "      <td>금</td>\n",
       "      <td>...</td>\n",
       "      <td>머리(두부)</td>\n",
       "      <td>물리적힘 노출</td>\n",
       "      <td>보행/주행</td>\n",
       "      <td>건물(문/창문/바닥/벽 등)</td>\n",
       "      <td>2018</td>\n",
       "      <td>12</td>\n",
       "      <td>28</td>\n",
       "      <td>12</td>\n",
       "      <td>30</td>\n",
       "      <td>4</td>\n",
       "    </tr>\n",
       "    <tr>\n",
       "      <th>33</th>\n",
       "      <td>A0000034</td>\n",
       "      <td>유치원</td>\n",
       "      <td>경기</td>\n",
       "      <td>광주하남교육지원청</td>\n",
       "      <td>사립</td>\n",
       "      <td>일반학생</td>\n",
       "      <td>남</td>\n",
       "      <td>유아</td>\n",
       "      <td>2018-12-17</td>\n",
       "      <td>월</td>\n",
       "      <td>...</td>\n",
       "      <td>팔</td>\n",
       "      <td>기타</td>\n",
       "      <td>장난/놀이</td>\n",
       "      <td>운동(놀이)용 장비/기구(공/운동기구/운동장 기구 등)</td>\n",
       "      <td>2018</td>\n",
       "      <td>12</td>\n",
       "      <td>17</td>\n",
       "      <td>11</td>\n",
       "      <td>20</td>\n",
       "      <td>0</td>\n",
       "    </tr>\n",
       "    <tr>\n",
       "      <th>38</th>\n",
       "      <td>A0000039</td>\n",
       "      <td>유치원</td>\n",
       "      <td>경북</td>\n",
       "      <td>포항교육지원청</td>\n",
       "      <td>사립</td>\n",
       "      <td>일반학생</td>\n",
       "      <td>남</td>\n",
       "      <td>유아</td>\n",
       "      <td>2018-12-28</td>\n",
       "      <td>금</td>\n",
       "      <td>...</td>\n",
       "      <td>머리(두부)</td>\n",
       "      <td>낙상-넘어짐</td>\n",
       "      <td>기타운동</td>\n",
       "      <td>건물(문/창문/바닥/벽 등)</td>\n",
       "      <td>2018</td>\n",
       "      <td>12</td>\n",
       "      <td>28</td>\n",
       "      <td>9</td>\n",
       "      <td>20</td>\n",
       "      <td>4</td>\n",
       "    </tr>\n",
       "    <tr>\n",
       "      <th>39</th>\n",
       "      <td>A0000040</td>\n",
       "      <td>유치원</td>\n",
       "      <td>전북</td>\n",
       "      <td>익산교육지원청</td>\n",
       "      <td>공립</td>\n",
       "      <td>일반학생</td>\n",
       "      <td>남</td>\n",
       "      <td>유아</td>\n",
       "      <td>2018-12-26</td>\n",
       "      <td>수</td>\n",
       "      <td>...</td>\n",
       "      <td>치아(구강)</td>\n",
       "      <td>물리적힘 노출</td>\n",
       "      <td>보행/주행</td>\n",
       "      <td>가구(책상/의자/책장/탁자/침대 등)</td>\n",
       "      <td>2018</td>\n",
       "      <td>12</td>\n",
       "      <td>26</td>\n",
       "      <td>11</td>\n",
       "      <td>30</td>\n",
       "      <td>2</td>\n",
       "    </tr>\n",
       "    <tr>\n",
       "      <th>41</th>\n",
       "      <td>A0000042</td>\n",
       "      <td>유치원</td>\n",
       "      <td>부산</td>\n",
       "      <td>남부교육지원청</td>\n",
       "      <td>공립</td>\n",
       "      <td>일반학생</td>\n",
       "      <td>남</td>\n",
       "      <td>유아</td>\n",
       "      <td>2018-12-26</td>\n",
       "      <td>수</td>\n",
       "      <td>...</td>\n",
       "      <td>팔</td>\n",
       "      <td>낙상-넘어짐</td>\n",
       "      <td>장난/놀이</td>\n",
       "      <td>운동(놀이)용 장비/기구(공/운동기구/운동장 기구 등)</td>\n",
       "      <td>2018</td>\n",
       "      <td>12</td>\n",
       "      <td>26</td>\n",
       "      <td>14</td>\n",
       "      <td>40</td>\n",
       "      <td>2</td>\n",
       "    </tr>\n",
       "  </tbody>\n",
       "</table>\n",
       "<p>5 rows × 23 columns</p>\n",
       "</div>"
      ],
      "text/plain": [
       "          구분  학교급  지역        교육청 설립유형 사고자구분 사고자성별 사고자학년       사고발생일 사고발생요일  \\\n",
       "28  A0000029  유치원  경기    용인교육지원청   공립  일반학생     여    유아  2018-12-28      금   \n",
       "33  A0000034  유치원  경기  광주하남교육지원청   사립  일반학생     남    유아  2018-12-17      월   \n",
       "38  A0000039  유치원  경북    포항교육지원청   사립  일반학생     남    유아  2018-12-28      금   \n",
       "39  A0000040  유치원  전북    익산교육지원청   공립  일반학생     남    유아  2018-12-26      수   \n",
       "41  A0000042  유치원  부산    남부교육지원청   공립  일반학생     남    유아  2018-12-26      수   \n",
       "\n",
       "    ...    사고부위     사고형태 사고당시활동                           사고매개물  year month  \\\n",
       "28  ...  머리(두부)  물리적힘 노출  보행/주행                 건물(문/창문/바닥/벽 등)  2018    12   \n",
       "33  ...       팔       기타  장난/놀이  운동(놀이)용 장비/기구(공/운동기구/운동장 기구 등)  2018    12   \n",
       "38  ...  머리(두부)   낙상-넘어짐   기타운동                 건물(문/창문/바닥/벽 등)  2018    12   \n",
       "39  ...  치아(구강)  물리적힘 노출  보행/주행            가구(책상/의자/책장/탁자/침대 등)  2018    12   \n",
       "41  ...       팔   낙상-넘어짐  장난/놀이  운동(놀이)용 장비/기구(공/운동기구/운동장 기구 등)  2018    12   \n",
       "\n",
       "   day  hour  min  week_day  \n",
       "28  28    12   30         4  \n",
       "33  17    11   20         0  \n",
       "38  28     9   20         4  \n",
       "39  26    11   30         2  \n",
       "41  26    14   40         2  \n",
       "\n",
       "[5 rows x 23 columns]"
      ]
     },
     "execution_count": 23,
     "metadata": {},
     "output_type": "execute_result"
    }
   ],
   "source": [
    "df_new.head()"
   ]
  },
  {
   "cell_type": "code",
   "execution_count": 24,
   "id": "1e8c9aa7",
   "metadata": {},
   "outputs": [
    {
     "name": "stdout",
     "output_type": "stream",
     "text": [
      "<class 'pandas.core.frame.DataFrame'>\n",
      "Index: 609988 entries, 28 to 193169\n",
      "Data columns (total 23 columns):\n",
      " #   Column    Non-Null Count   Dtype \n",
      "---  ------    --------------   ----- \n",
      " 0   구분        609988 non-null  object\n",
      " 1   학교급       609988 non-null  object\n",
      " 2   지역        609988 non-null  object\n",
      " 3   교육청       609988 non-null  object\n",
      " 4   설립유형      609988 non-null  object\n",
      " 5   사고자구분     609988 non-null  object\n",
      " 6   사고자성별     609988 non-null  object\n",
      " 7   사고자학년     609988 non-null  object\n",
      " 8   사고발생일     609988 non-null  object\n",
      " 9   사고발생요일    609988 non-null  object\n",
      " 10  사고발생시각    609988 non-null  object\n",
      " 11  사고시간      609988 non-null  object\n",
      " 12  사고장소      609988 non-null  object\n",
      " 13  사고부위      609988 non-null  object\n",
      " 14  사고형태      609988 non-null  object\n",
      " 15  사고당시활동    609988 non-null  object\n",
      " 16  사고매개물     609988 non-null  object\n",
      " 17  year      609988 non-null  int32 \n",
      " 18  month     609988 non-null  int32 \n",
      " 19  day       609988 non-null  int32 \n",
      " 20  hour      609988 non-null  int32 \n",
      " 21  min       609988 non-null  int32 \n",
      " 22  week_day  609988 non-null  int64 \n",
      "dtypes: int32(5), int64(1), object(17)\n",
      "memory usage: 100.1+ MB\n"
     ]
    }
   ],
   "source": [
    "df_new.info()"
   ]
  },
  {
   "cell_type": "code",
   "execution_count": 25,
   "id": "b4813414",
   "metadata": {},
   "outputs": [
    {
     "data": {
      "text/plain": [
       "28         7\n",
       "33         7\n",
       "38         7\n",
       "39         7\n",
       "41         7\n",
       "          ..\n",
       "193157    18\n",
       "193160    17\n",
       "193161    19\n",
       "193166    19\n",
       "193169    17\n",
       "Name: 나이, Length: 609988, dtype: int32"
      ]
     },
     "execution_count": 25,
     "metadata": {},
     "output_type": "execute_result"
    }
   ],
   "source": [
    "\n",
    "def make_age(row):\n",
    "    # row : Series\n",
    "    if (row['학교급'] == '유치원') and (row['사고자학년'] == '유아'):\n",
    "        return 7\n",
    "    elif (row['학교급'] == '초등학교') and (row['사고자학년'] == '1학년'):\n",
    "        return 8\n",
    "    elif (row['학교급'] == '초등학교') and (row['사고자학년'] == '2학년'):\n",
    "        return 9\n",
    "    elif (row['학교급'] == '초등학교') and (row['사고자학년'] == '3학년'):\n",
    "        return 10\n",
    "    elif (row['학교급'] == '초등학교') and (row['사고자학년'] == '4학년'):\n",
    "        return 11\n",
    "    elif (row['학교급'] == '초등학교') and (row['사고자학년'] == '5학년'):\n",
    "        return 12\n",
    "    elif (row['학교급'] == '초등학교') and (row['사고자학년'] == '6학년'):\n",
    "        return 13\n",
    "    elif (row['학교급'] == '중학교') and (row['사고자학년'] == '1학년'):\n",
    "        return 14\n",
    "    elif (row['학교급'] == '중학교') and (row['사고자학년'] == '2학년'):\n",
    "        return 15\n",
    "    elif (row['학교급'] == '중학교') and (row['사고자학년'] == '3학년'):\n",
    "        return 16\n",
    "    elif (row['학교급'] == '고등학교') and (row['사고자학년'] == '1학년'):\n",
    "        return 17\n",
    "    elif (row['학교급'] == '고등학교') and (row['사고자학년'] == '2학년'):\n",
    "        return 18\n",
    "    elif (row['학교급'] == '고등학교') and (row['사고자학년'] == '3학년'):\n",
    "        return 19\n",
    "    \n",
    "    \n",
    "    \n",
    "df_new['나이'] = df_new.apply(make_age, axis=1)\n",
    "df_new['나이'].astype(int)\n"
   ]
  },
  {
   "cell_type": "code",
   "execution_count": null,
   "id": "2baa41f6",
   "metadata": {},
   "outputs": [],
   "source": []
  },
  {
   "cell_type": "code",
   "execution_count": 19,
   "id": "f63f5e4c",
   "metadata": {
    "scrolled": true
   },
   "outputs": [
    {
     "name": "stdout",
     "output_type": "stream",
     "text": [
      "<class 'pandas.core.frame.DataFrame'>\n",
      "Index: 614601 entries, 0 to 193176\n",
      "Data columns (total 23 columns):\n",
      " #   Column    Non-Null Count   Dtype \n",
      "---  ------    --------------   ----- \n",
      " 0   구분        614601 non-null  object\n",
      " 1   학교급       614601 non-null  object\n",
      " 2   지역        614601 non-null  object\n",
      " 3   교육청       614601 non-null  object\n",
      " 4   설립유형      614601 non-null  object\n",
      " 5   사고자구분     614601 non-null  object\n",
      " 6   사고자성별     614601 non-null  object\n",
      " 7   사고자학년     614401 non-null  object\n",
      " 8   사고발생일     614601 non-null  object\n",
      " 9   사고발생요일    614601 non-null  object\n",
      " 10  사고발생시각    614601 non-null  object\n",
      " 11  사고시간      614601 non-null  object\n",
      " 12  사고장소      614601 non-null  object\n",
      " 13  사고부위      614601 non-null  object\n",
      " 14  사고형태      614601 non-null  object\n",
      " 15  사고당시활동    614601 non-null  object\n",
      " 16  사고매개물     614601 non-null  object\n",
      " 17  year      614601 non-null  int32 \n",
      " 18  month     614601 non-null  int32 \n",
      " 19  day       614601 non-null  int32 \n",
      " 20  hour      614601 non-null  int32 \n",
      " 21  min       614601 non-null  int32 \n",
      " 22  week_day  614601 non-null  int64 \n",
      "dtypes: int32(5), int64(1), object(17)\n",
      "memory usage: 100.8+ MB\n"
     ]
    }
   ],
   "source": [
    "df.info()"
   ]
  },
  {
   "cell_type": "code",
   "execution_count": null,
   "id": "1529d18c",
   "metadata": {},
   "outputs": [],
   "source": []
  },
  {
   "cell_type": "code",
   "execution_count": null,
   "id": "4b277e6f",
   "metadata": {},
   "outputs": [],
   "source": []
  }
 ],
 "metadata": {
  "kernelspec": {
   "display_name": "Python 3 (ipykernel)",
   "language": "python",
   "name": "python3"
  },
  "language_info": {
   "codemirror_mode": {
    "name": "ipython",
    "version": 3
   },
   "file_extension": ".py",
   "mimetype": "text/x-python",
   "name": "python",
   "nbconvert_exporter": "python",
   "pygments_lexer": "ipython3",
   "version": "3.11.7"
  },
  "toc": {
   "base_numbering": 1,
   "nav_menu": {},
   "number_sections": true,
   "sideBar": true,
   "skip_h1_title": false,
   "title_cell": "Table of Contents",
   "title_sidebar": "Contents",
   "toc_cell": false,
   "toc_position": {
    "height": "calc(100% - 180px)",
    "left": "10px",
    "top": "150px",
    "width": "341.333px"
   },
   "toc_section_display": true,
   "toc_window_display": false
  }
 },
 "nbformat": 4,
 "nbformat_minor": 5
}
